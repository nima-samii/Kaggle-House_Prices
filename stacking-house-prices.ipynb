{
 "cells": [
  {
   "cell_type": "code",
   "execution_count": 1,
   "id": "aa20d12c",
   "metadata": {
    "_cell_guid": "b1076dfc-b9ad-4769-8c92-a6c4dae69d19",
    "_uuid": "8f2839f25d086af736a60e9eeb907d3b93b6e0e5",
    "execution": {
     "iopub.execute_input": "2021-11-28T11:51:06.550375Z",
     "iopub.status.busy": "2021-11-28T11:51:06.549198Z",
     "iopub.status.idle": "2021-11-28T11:51:06.565749Z",
     "shell.execute_reply": "2021-11-28T11:51:06.566614Z",
     "shell.execute_reply.started": "2021-11-28T11:19:12.353229Z"
    },
    "papermill": {
     "duration": 0.060168,
     "end_time": "2021-11-28T11:51:06.566977",
     "exception": false,
     "start_time": "2021-11-28T11:51:06.506809",
     "status": "completed"
    },
    "tags": []
   },
   "outputs": [
    {
     "name": "stdout",
     "output_type": "stream",
     "text": [
      "/kaggle/input/house-prices-advanced-regression-techniques/sample_submission.csv\n",
      "/kaggle/input/house-prices-advanced-regression-techniques/data_description.txt\n",
      "/kaggle/input/house-prices-advanced-regression-techniques/train.csv\n",
      "/kaggle/input/house-prices-advanced-regression-techniques/test.csv\n"
     ]
    }
   ],
   "source": [
    "# This Python 3 environment comes with many helpful analytics libraries installed\n",
    "# It is defined by the kaggle/python Docker image: https://github.com/kaggle/docker-python\n",
    "# For example, here's several helpful packages to load\n",
    "\n",
    "import numpy as np # linear algebra\n",
    "import pandas as pd # data processing, CSV file I/O (e.g. pd.read_csv)\n",
    "\n",
    "# Input data files are available in the read-only \"../input/\" directory\n",
    "# For example, running this (by clicking run or pressing Shift+Enter) will list all files under the input directory\n",
    "\n",
    "import os\n",
    "for dirname, _, filenames in os.walk('/kaggle/input'):\n",
    "    for filename in filenames:\n",
    "        print(os.path.join(dirname, filename))\n",
    "\n",
    "# You can write up to 20GB to the current directory (/kaggle/working/) that gets preserved as output when you create a version using \"Save & Run All\" \n",
    "# You can also write temporary files to /kaggle/temp/, but they won't be saved outside of the current session"
   ]
  },
  {
   "cell_type": "code",
   "execution_count": 2,
   "id": "86f17f72",
   "metadata": {
    "execution": {
     "iopub.execute_input": "2021-11-28T11:51:06.640915Z",
     "iopub.status.busy": "2021-11-28T11:51:06.639908Z",
     "iopub.status.idle": "2021-11-28T11:51:07.552048Z",
     "shell.execute_reply": "2021-11-28T11:51:07.552666Z",
     "shell.execute_reply.started": "2021-11-28T11:19:12.393523Z"
    },
    "papermill": {
     "duration": 0.950332,
     "end_time": "2021-11-28T11:51:07.552900",
     "exception": false,
     "start_time": "2021-11-28T11:51:06.602568",
     "status": "completed"
    },
    "tags": []
   },
   "outputs": [],
   "source": [
    "#data analysis libraries\n",
    "import numpy as np\n",
    "import pandas as pd\n",
    "\n",
    "from scipy.stats import norm, skew\n",
    "from scipy import stats\n",
    "\n",
    "#visualization libraries\n",
    "import matplotlib.pyplot as plt\n",
    "import seaborn as sns\n",
    "%matplotlib inline\n",
    "\n",
    "#ignore warning\n",
    "import warnings\n",
    "warnings.filterwarnings(action=\"ignore\")\n"
   ]
  },
  {
   "cell_type": "markdown",
   "id": "d1ec530d",
   "metadata": {
    "papermill": {
     "duration": 0.034539,
     "end_time": "2021-11-28T11:51:07.622872",
     "exception": false,
     "start_time": "2021-11-28T11:51:07.588333",
     "status": "completed"
    },
    "tags": []
   },
   "source": [
    "# Read in and Explore the Data"
   ]
  },
  {
   "cell_type": "code",
   "execution_count": 3,
   "id": "862daab7",
   "metadata": {
    "execution": {
     "iopub.execute_input": "2021-11-28T11:51:07.698506Z",
     "iopub.status.busy": "2021-11-28T11:51:07.697619Z",
     "iopub.status.idle": "2021-11-28T11:51:07.965543Z",
     "shell.execute_reply": "2021-11-28T11:51:07.966105Z",
     "shell.execute_reply.started": "2021-11-28T11:19:13.411135Z"
    },
    "papermill": {
     "duration": 0.308672,
     "end_time": "2021-11-28T11:51:07.966286",
     "exception": false,
     "start_time": "2021-11-28T11:51:07.657614",
     "status": "completed"
    },
    "tags": []
   },
   "outputs": [
    {
     "data": {
      "text/html": [
       "<div>\n",
       "<style scoped>\n",
       "    .dataframe tbody tr th:only-of-type {\n",
       "        vertical-align: middle;\n",
       "    }\n",
       "\n",
       "    .dataframe tbody tr th {\n",
       "        vertical-align: top;\n",
       "    }\n",
       "\n",
       "    .dataframe thead th {\n",
       "        text-align: right;\n",
       "    }\n",
       "</style>\n",
       "<table border=\"1\" class=\"dataframe\">\n",
       "  <thead>\n",
       "    <tr style=\"text-align: right;\">\n",
       "      <th></th>\n",
       "      <th>Id</th>\n",
       "      <th>MSSubClass</th>\n",
       "      <th>MSZoning</th>\n",
       "      <th>LotFrontage</th>\n",
       "      <th>LotArea</th>\n",
       "      <th>Street</th>\n",
       "      <th>Alley</th>\n",
       "      <th>LotShape</th>\n",
       "      <th>LandContour</th>\n",
       "      <th>Utilities</th>\n",
       "      <th>...</th>\n",
       "      <th>PoolArea</th>\n",
       "      <th>PoolQC</th>\n",
       "      <th>Fence</th>\n",
       "      <th>MiscFeature</th>\n",
       "      <th>MiscVal</th>\n",
       "      <th>MoSold</th>\n",
       "      <th>YrSold</th>\n",
       "      <th>SaleType</th>\n",
       "      <th>SaleCondition</th>\n",
       "      <th>SalePrice</th>\n",
       "    </tr>\n",
       "  </thead>\n",
       "  <tbody>\n",
       "    <tr>\n",
       "      <th>count</th>\n",
       "      <td>1460.000000</td>\n",
       "      <td>1460.000000</td>\n",
       "      <td>1460</td>\n",
       "      <td>1201.000000</td>\n",
       "      <td>1460.000000</td>\n",
       "      <td>1460</td>\n",
       "      <td>91</td>\n",
       "      <td>1460</td>\n",
       "      <td>1460</td>\n",
       "      <td>1460</td>\n",
       "      <td>...</td>\n",
       "      <td>1460.000000</td>\n",
       "      <td>7</td>\n",
       "      <td>281</td>\n",
       "      <td>54</td>\n",
       "      <td>1460.000000</td>\n",
       "      <td>1460.000000</td>\n",
       "      <td>1460.000000</td>\n",
       "      <td>1460</td>\n",
       "      <td>1460</td>\n",
       "      <td>1460.000000</td>\n",
       "    </tr>\n",
       "    <tr>\n",
       "      <th>unique</th>\n",
       "      <td>NaN</td>\n",
       "      <td>NaN</td>\n",
       "      <td>5</td>\n",
       "      <td>NaN</td>\n",
       "      <td>NaN</td>\n",
       "      <td>2</td>\n",
       "      <td>2</td>\n",
       "      <td>4</td>\n",
       "      <td>4</td>\n",
       "      <td>2</td>\n",
       "      <td>...</td>\n",
       "      <td>NaN</td>\n",
       "      <td>3</td>\n",
       "      <td>4</td>\n",
       "      <td>4</td>\n",
       "      <td>NaN</td>\n",
       "      <td>NaN</td>\n",
       "      <td>NaN</td>\n",
       "      <td>9</td>\n",
       "      <td>6</td>\n",
       "      <td>NaN</td>\n",
       "    </tr>\n",
       "    <tr>\n",
       "      <th>top</th>\n",
       "      <td>NaN</td>\n",
       "      <td>NaN</td>\n",
       "      <td>RL</td>\n",
       "      <td>NaN</td>\n",
       "      <td>NaN</td>\n",
       "      <td>Pave</td>\n",
       "      <td>Grvl</td>\n",
       "      <td>Reg</td>\n",
       "      <td>Lvl</td>\n",
       "      <td>AllPub</td>\n",
       "      <td>...</td>\n",
       "      <td>NaN</td>\n",
       "      <td>Gd</td>\n",
       "      <td>MnPrv</td>\n",
       "      <td>Shed</td>\n",
       "      <td>NaN</td>\n",
       "      <td>NaN</td>\n",
       "      <td>NaN</td>\n",
       "      <td>WD</td>\n",
       "      <td>Normal</td>\n",
       "      <td>NaN</td>\n",
       "    </tr>\n",
       "    <tr>\n",
       "      <th>freq</th>\n",
       "      <td>NaN</td>\n",
       "      <td>NaN</td>\n",
       "      <td>1151</td>\n",
       "      <td>NaN</td>\n",
       "      <td>NaN</td>\n",
       "      <td>1454</td>\n",
       "      <td>50</td>\n",
       "      <td>925</td>\n",
       "      <td>1311</td>\n",
       "      <td>1459</td>\n",
       "      <td>...</td>\n",
       "      <td>NaN</td>\n",
       "      <td>3</td>\n",
       "      <td>157</td>\n",
       "      <td>49</td>\n",
       "      <td>NaN</td>\n",
       "      <td>NaN</td>\n",
       "      <td>NaN</td>\n",
       "      <td>1267</td>\n",
       "      <td>1198</td>\n",
       "      <td>NaN</td>\n",
       "    </tr>\n",
       "    <tr>\n",
       "      <th>mean</th>\n",
       "      <td>730.500000</td>\n",
       "      <td>56.897260</td>\n",
       "      <td>NaN</td>\n",
       "      <td>70.049958</td>\n",
       "      <td>10516.828082</td>\n",
       "      <td>NaN</td>\n",
       "      <td>NaN</td>\n",
       "      <td>NaN</td>\n",
       "      <td>NaN</td>\n",
       "      <td>NaN</td>\n",
       "      <td>...</td>\n",
       "      <td>2.758904</td>\n",
       "      <td>NaN</td>\n",
       "      <td>NaN</td>\n",
       "      <td>NaN</td>\n",
       "      <td>43.489041</td>\n",
       "      <td>6.321918</td>\n",
       "      <td>2007.815753</td>\n",
       "      <td>NaN</td>\n",
       "      <td>NaN</td>\n",
       "      <td>180921.195890</td>\n",
       "    </tr>\n",
       "    <tr>\n",
       "      <th>std</th>\n",
       "      <td>421.610009</td>\n",
       "      <td>42.300571</td>\n",
       "      <td>NaN</td>\n",
       "      <td>24.284752</td>\n",
       "      <td>9981.264932</td>\n",
       "      <td>NaN</td>\n",
       "      <td>NaN</td>\n",
       "      <td>NaN</td>\n",
       "      <td>NaN</td>\n",
       "      <td>NaN</td>\n",
       "      <td>...</td>\n",
       "      <td>40.177307</td>\n",
       "      <td>NaN</td>\n",
       "      <td>NaN</td>\n",
       "      <td>NaN</td>\n",
       "      <td>496.123024</td>\n",
       "      <td>2.703626</td>\n",
       "      <td>1.328095</td>\n",
       "      <td>NaN</td>\n",
       "      <td>NaN</td>\n",
       "      <td>79442.502883</td>\n",
       "    </tr>\n",
       "    <tr>\n",
       "      <th>min</th>\n",
       "      <td>1.000000</td>\n",
       "      <td>20.000000</td>\n",
       "      <td>NaN</td>\n",
       "      <td>21.000000</td>\n",
       "      <td>1300.000000</td>\n",
       "      <td>NaN</td>\n",
       "      <td>NaN</td>\n",
       "      <td>NaN</td>\n",
       "      <td>NaN</td>\n",
       "      <td>NaN</td>\n",
       "      <td>...</td>\n",
       "      <td>0.000000</td>\n",
       "      <td>NaN</td>\n",
       "      <td>NaN</td>\n",
       "      <td>NaN</td>\n",
       "      <td>0.000000</td>\n",
       "      <td>1.000000</td>\n",
       "      <td>2006.000000</td>\n",
       "      <td>NaN</td>\n",
       "      <td>NaN</td>\n",
       "      <td>34900.000000</td>\n",
       "    </tr>\n",
       "    <tr>\n",
       "      <th>25%</th>\n",
       "      <td>365.750000</td>\n",
       "      <td>20.000000</td>\n",
       "      <td>NaN</td>\n",
       "      <td>59.000000</td>\n",
       "      <td>7553.500000</td>\n",
       "      <td>NaN</td>\n",
       "      <td>NaN</td>\n",
       "      <td>NaN</td>\n",
       "      <td>NaN</td>\n",
       "      <td>NaN</td>\n",
       "      <td>...</td>\n",
       "      <td>0.000000</td>\n",
       "      <td>NaN</td>\n",
       "      <td>NaN</td>\n",
       "      <td>NaN</td>\n",
       "      <td>0.000000</td>\n",
       "      <td>5.000000</td>\n",
       "      <td>2007.000000</td>\n",
       "      <td>NaN</td>\n",
       "      <td>NaN</td>\n",
       "      <td>129975.000000</td>\n",
       "    </tr>\n",
       "    <tr>\n",
       "      <th>50%</th>\n",
       "      <td>730.500000</td>\n",
       "      <td>50.000000</td>\n",
       "      <td>NaN</td>\n",
       "      <td>69.000000</td>\n",
       "      <td>9478.500000</td>\n",
       "      <td>NaN</td>\n",
       "      <td>NaN</td>\n",
       "      <td>NaN</td>\n",
       "      <td>NaN</td>\n",
       "      <td>NaN</td>\n",
       "      <td>...</td>\n",
       "      <td>0.000000</td>\n",
       "      <td>NaN</td>\n",
       "      <td>NaN</td>\n",
       "      <td>NaN</td>\n",
       "      <td>0.000000</td>\n",
       "      <td>6.000000</td>\n",
       "      <td>2008.000000</td>\n",
       "      <td>NaN</td>\n",
       "      <td>NaN</td>\n",
       "      <td>163000.000000</td>\n",
       "    </tr>\n",
       "    <tr>\n",
       "      <th>75%</th>\n",
       "      <td>1095.250000</td>\n",
       "      <td>70.000000</td>\n",
       "      <td>NaN</td>\n",
       "      <td>80.000000</td>\n",
       "      <td>11601.500000</td>\n",
       "      <td>NaN</td>\n",
       "      <td>NaN</td>\n",
       "      <td>NaN</td>\n",
       "      <td>NaN</td>\n",
       "      <td>NaN</td>\n",
       "      <td>...</td>\n",
       "      <td>0.000000</td>\n",
       "      <td>NaN</td>\n",
       "      <td>NaN</td>\n",
       "      <td>NaN</td>\n",
       "      <td>0.000000</td>\n",
       "      <td>8.000000</td>\n",
       "      <td>2009.000000</td>\n",
       "      <td>NaN</td>\n",
       "      <td>NaN</td>\n",
       "      <td>214000.000000</td>\n",
       "    </tr>\n",
       "    <tr>\n",
       "      <th>max</th>\n",
       "      <td>1460.000000</td>\n",
       "      <td>190.000000</td>\n",
       "      <td>NaN</td>\n",
       "      <td>313.000000</td>\n",
       "      <td>215245.000000</td>\n",
       "      <td>NaN</td>\n",
       "      <td>NaN</td>\n",
       "      <td>NaN</td>\n",
       "      <td>NaN</td>\n",
       "      <td>NaN</td>\n",
       "      <td>...</td>\n",
       "      <td>738.000000</td>\n",
       "      <td>NaN</td>\n",
       "      <td>NaN</td>\n",
       "      <td>NaN</td>\n",
       "      <td>15500.000000</td>\n",
       "      <td>12.000000</td>\n",
       "      <td>2010.000000</td>\n",
       "      <td>NaN</td>\n",
       "      <td>NaN</td>\n",
       "      <td>755000.000000</td>\n",
       "    </tr>\n",
       "  </tbody>\n",
       "</table>\n",
       "<p>11 rows × 81 columns</p>\n",
       "</div>"
      ],
      "text/plain": [
       "                 Id   MSSubClass MSZoning  LotFrontage        LotArea Street  \\\n",
       "count   1460.000000  1460.000000     1460  1201.000000    1460.000000   1460   \n",
       "unique          NaN          NaN        5          NaN            NaN      2   \n",
       "top             NaN          NaN       RL          NaN            NaN   Pave   \n",
       "freq            NaN          NaN     1151          NaN            NaN   1454   \n",
       "mean     730.500000    56.897260      NaN    70.049958   10516.828082    NaN   \n",
       "std      421.610009    42.300571      NaN    24.284752    9981.264932    NaN   \n",
       "min        1.000000    20.000000      NaN    21.000000    1300.000000    NaN   \n",
       "25%      365.750000    20.000000      NaN    59.000000    7553.500000    NaN   \n",
       "50%      730.500000    50.000000      NaN    69.000000    9478.500000    NaN   \n",
       "75%     1095.250000    70.000000      NaN    80.000000   11601.500000    NaN   \n",
       "max     1460.000000   190.000000      NaN   313.000000  215245.000000    NaN   \n",
       "\n",
       "       Alley LotShape LandContour Utilities  ...     PoolArea PoolQC  Fence  \\\n",
       "count     91     1460        1460      1460  ...  1460.000000      7    281   \n",
       "unique     2        4           4         2  ...          NaN      3      4   \n",
       "top     Grvl      Reg         Lvl    AllPub  ...          NaN     Gd  MnPrv   \n",
       "freq      50      925        1311      1459  ...          NaN      3    157   \n",
       "mean     NaN      NaN         NaN       NaN  ...     2.758904    NaN    NaN   \n",
       "std      NaN      NaN         NaN       NaN  ...    40.177307    NaN    NaN   \n",
       "min      NaN      NaN         NaN       NaN  ...     0.000000    NaN    NaN   \n",
       "25%      NaN      NaN         NaN       NaN  ...     0.000000    NaN    NaN   \n",
       "50%      NaN      NaN         NaN       NaN  ...     0.000000    NaN    NaN   \n",
       "75%      NaN      NaN         NaN       NaN  ...     0.000000    NaN    NaN   \n",
       "max      NaN      NaN         NaN       NaN  ...   738.000000    NaN    NaN   \n",
       "\n",
       "       MiscFeature       MiscVal       MoSold       YrSold  SaleType  \\\n",
       "count           54   1460.000000  1460.000000  1460.000000      1460   \n",
       "unique           4           NaN          NaN          NaN         9   \n",
       "top           Shed           NaN          NaN          NaN        WD   \n",
       "freq            49           NaN          NaN          NaN      1267   \n",
       "mean           NaN     43.489041     6.321918  2007.815753       NaN   \n",
       "std            NaN    496.123024     2.703626     1.328095       NaN   \n",
       "min            NaN      0.000000     1.000000  2006.000000       NaN   \n",
       "25%            NaN      0.000000     5.000000  2007.000000       NaN   \n",
       "50%            NaN      0.000000     6.000000  2008.000000       NaN   \n",
       "75%            NaN      0.000000     8.000000  2009.000000       NaN   \n",
       "max            NaN  15500.000000    12.000000  2010.000000       NaN   \n",
       "\n",
       "        SaleCondition      SalePrice  \n",
       "count            1460    1460.000000  \n",
       "unique              6            NaN  \n",
       "top            Normal            NaN  \n",
       "freq             1198            NaN  \n",
       "mean              NaN  180921.195890  \n",
       "std               NaN   79442.502883  \n",
       "min               NaN   34900.000000  \n",
       "25%               NaN  129975.000000  \n",
       "50%               NaN  163000.000000  \n",
       "75%               NaN  214000.000000  \n",
       "max               NaN  755000.000000  \n",
       "\n",
       "[11 rows x 81 columns]"
      ]
     },
     "execution_count": 3,
     "metadata": {},
     "output_type": "execute_result"
    }
   ],
   "source": [
    "#import train and test CSV files\n",
    "df_train = pd.read_csv('../input/house-prices-advanced-regression-techniques/train.csv')\n",
    "df_test = pd.read_csv('../input/house-prices-advanced-regression-techniques/test.csv')\n",
    "\n",
    "#take a look at the training data\n",
    "df_train.describe(include='all')"
   ]
  },
  {
   "cell_type": "markdown",
   "id": "23b4a4f3",
   "metadata": {
    "papermill": {
     "duration": 0.035911,
     "end_time": "2021-11-28T11:51:08.037625",
     "exception": false,
     "start_time": "2021-11-28T11:51:08.001714",
     "status": "completed"
    },
    "tags": []
   },
   "source": [
    "# Data Processing"
   ]
  },
  {
   "cell_type": "code",
   "execution_count": 4,
   "id": "ef6d46e5",
   "metadata": {
    "execution": {
     "iopub.execute_input": "2021-11-28T11:51:08.124589Z",
     "iopub.status.busy": "2021-11-28T11:51:08.123580Z",
     "iopub.status.idle": "2021-11-28T11:51:08.141007Z",
     "shell.execute_reply": "2021-11-28T11:51:08.141609Z",
     "shell.execute_reply.started": "2021-11-28T11:19:13.69743Z"
    },
    "papermill": {
     "duration": 0.064966,
     "end_time": "2021-11-28T11:51:08.141790",
     "exception": false,
     "start_time": "2021-11-28T11:51:08.076824",
     "status": "completed"
    },
    "tags": []
   },
   "outputs": [
    {
     "name": "stdout",
     "output_type": "stream",
     "text": [
      "There are 0 duplicate Ids in the training data\n",
      "The train data size: (1460, 80)\n",
      "The test data size: (1459, 79)\n"
     ]
    }
   ],
   "source": [
    "#check for duplicate IDs\n",
    "idsUni = len(set(df_train.Id))\n",
    "idsTotal = len(df_train.Id)\n",
    "idsDupli = idsUni - idsTotal\n",
    "print('There are {} duplicate Ids in the training data'.format(idsDupli))\n",
    "\n",
    "#save the 'Id' column, then drop them\n",
    "df_train_Id = df_train['Id']\n",
    "df_test_Id = df_test['Id']\n",
    "df_train.drop('Id', axis = 1, inplace = True)\n",
    "df_test.drop('Id', axis = 1, inplace = True)\n",
    "\n",
    "#now we check the size of df_train and df_test\n",
    "print('The train data size: {}'.format(df_train.shape))\n",
    "print('The test data size: {}'.format(df_test.shape))"
   ]
  },
  {
   "cell_type": "code",
   "execution_count": 5,
   "id": "e9eb4150",
   "metadata": {
    "execution": {
     "iopub.execute_input": "2021-11-28T11:51:08.217694Z",
     "iopub.status.busy": "2021-11-28T11:51:08.216735Z",
     "iopub.status.idle": "2021-11-28T11:51:08.222723Z",
     "shell.execute_reply": "2021-11-28T11:51:08.222147Z",
     "shell.execute_reply.started": "2021-11-28T11:19:13.714434Z"
    },
    "papermill": {
     "duration": 0.0445,
     "end_time": "2021-11-28T11:51:08.222865",
     "exception": false,
     "start_time": "2021-11-28T11:51:08.178365",
     "status": "completed"
    },
    "tags": []
   },
   "outputs": [
    {
     "name": "stdout",
     "output_type": "stream",
     "text": [
      "Index(['MSSubClass', 'MSZoning', 'LotFrontage', 'LotArea', 'Street', 'Alley',\n",
      "       'LotShape', 'LandContour', 'Utilities', 'LotConfig', 'LandSlope',\n",
      "       'Neighborhood', 'Condition1', 'Condition2', 'BldgType', 'HouseStyle',\n",
      "       'OverallQual', 'OverallCond', 'YearBuilt', 'YearRemodAdd', 'RoofStyle',\n",
      "       'RoofMatl', 'Exterior1st', 'Exterior2nd', 'MasVnrType', 'MasVnrArea',\n",
      "       'ExterQual', 'ExterCond', 'Foundation', 'BsmtQual', 'BsmtCond',\n",
      "       'BsmtExposure', 'BsmtFinType1', 'BsmtFinSF1', 'BsmtFinType2',\n",
      "       'BsmtFinSF2', 'BsmtUnfSF', 'TotalBsmtSF', 'Heating', 'HeatingQC',\n",
      "       'CentralAir', 'Electrical', '1stFlrSF', '2ndFlrSF', 'LowQualFinSF',\n",
      "       'GrLivArea', 'BsmtFullBath', 'BsmtHalfBath', 'FullBath', 'HalfBath',\n",
      "       'BedroomAbvGr', 'KitchenAbvGr', 'KitchenQual', 'TotRmsAbvGrd',\n",
      "       'Functional', 'Fireplaces', 'FireplaceQu', 'GarageType', 'GarageYrBlt',\n",
      "       'GarageFinish', 'GarageCars', 'GarageArea', 'GarageQual', 'GarageCond',\n",
      "       'PavedDrive', 'WoodDeckSF', 'OpenPorchSF', 'EnclosedPorch', '3SsnPorch',\n",
      "       'ScreenPorch', 'PoolArea', 'PoolQC', 'Fence', 'MiscFeature', 'MiscVal',\n",
      "       'MoSold', 'YrSold', 'SaleType', 'SaleCondition', 'SalePrice'],\n",
      "      dtype='object')\n"
     ]
    }
   ],
   "source": [
    "#get a list of the features within the dataset\n",
    "print(df_train.columns)"
   ]
  },
  {
   "cell_type": "code",
   "execution_count": 6,
   "id": "e7341c56",
   "metadata": {
    "execution": {
     "iopub.execute_input": "2021-11-28T11:51:08.298262Z",
     "iopub.status.busy": "2021-11-28T11:51:08.297613Z",
     "iopub.status.idle": "2021-11-28T11:51:08.320802Z",
     "shell.execute_reply": "2021-11-28T11:51:08.320158Z",
     "shell.execute_reply.started": "2021-11-28T11:19:13.72649Z"
    },
    "papermill": {
     "duration": 0.061962,
     "end_time": "2021-11-28T11:51:08.320950",
     "exception": false,
     "start_time": "2021-11-28T11:51:08.258988",
     "status": "completed"
    },
    "tags": []
   },
   "outputs": [
    {
     "data": {
      "text/html": [
       "<div>\n",
       "<style scoped>\n",
       "    .dataframe tbody tr th:only-of-type {\n",
       "        vertical-align: middle;\n",
       "    }\n",
       "\n",
       "    .dataframe tbody tr th {\n",
       "        vertical-align: top;\n",
       "    }\n",
       "\n",
       "    .dataframe thead th {\n",
       "        text-align: right;\n",
       "    }\n",
       "</style>\n",
       "<table border=\"1\" class=\"dataframe\">\n",
       "  <thead>\n",
       "    <tr style=\"text-align: right;\">\n",
       "      <th></th>\n",
       "      <th>MSSubClass</th>\n",
       "      <th>MSZoning</th>\n",
       "      <th>LotFrontage</th>\n",
       "      <th>LotArea</th>\n",
       "      <th>Street</th>\n",
       "      <th>Alley</th>\n",
       "      <th>LotShape</th>\n",
       "      <th>LandContour</th>\n",
       "      <th>Utilities</th>\n",
       "      <th>LotConfig</th>\n",
       "      <th>...</th>\n",
       "      <th>PoolArea</th>\n",
       "      <th>PoolQC</th>\n",
       "      <th>Fence</th>\n",
       "      <th>MiscFeature</th>\n",
       "      <th>MiscVal</th>\n",
       "      <th>MoSold</th>\n",
       "      <th>YrSold</th>\n",
       "      <th>SaleType</th>\n",
       "      <th>SaleCondition</th>\n",
       "      <th>SalePrice</th>\n",
       "    </tr>\n",
       "  </thead>\n",
       "  <tbody>\n",
       "    <tr>\n",
       "      <th>0</th>\n",
       "      <td>60</td>\n",
       "      <td>RL</td>\n",
       "      <td>65.0</td>\n",
       "      <td>8450</td>\n",
       "      <td>Pave</td>\n",
       "      <td>NaN</td>\n",
       "      <td>Reg</td>\n",
       "      <td>Lvl</td>\n",
       "      <td>AllPub</td>\n",
       "      <td>Inside</td>\n",
       "      <td>...</td>\n",
       "      <td>0</td>\n",
       "      <td>NaN</td>\n",
       "      <td>NaN</td>\n",
       "      <td>NaN</td>\n",
       "      <td>0</td>\n",
       "      <td>2</td>\n",
       "      <td>2008</td>\n",
       "      <td>WD</td>\n",
       "      <td>Normal</td>\n",
       "      <td>208500</td>\n",
       "    </tr>\n",
       "    <tr>\n",
       "      <th>1</th>\n",
       "      <td>20</td>\n",
       "      <td>RL</td>\n",
       "      <td>80.0</td>\n",
       "      <td>9600</td>\n",
       "      <td>Pave</td>\n",
       "      <td>NaN</td>\n",
       "      <td>Reg</td>\n",
       "      <td>Lvl</td>\n",
       "      <td>AllPub</td>\n",
       "      <td>FR2</td>\n",
       "      <td>...</td>\n",
       "      <td>0</td>\n",
       "      <td>NaN</td>\n",
       "      <td>NaN</td>\n",
       "      <td>NaN</td>\n",
       "      <td>0</td>\n",
       "      <td>5</td>\n",
       "      <td>2007</td>\n",
       "      <td>WD</td>\n",
       "      <td>Normal</td>\n",
       "      <td>181500</td>\n",
       "    </tr>\n",
       "    <tr>\n",
       "      <th>2</th>\n",
       "      <td>60</td>\n",
       "      <td>RL</td>\n",
       "      <td>68.0</td>\n",
       "      <td>11250</td>\n",
       "      <td>Pave</td>\n",
       "      <td>NaN</td>\n",
       "      <td>IR1</td>\n",
       "      <td>Lvl</td>\n",
       "      <td>AllPub</td>\n",
       "      <td>Inside</td>\n",
       "      <td>...</td>\n",
       "      <td>0</td>\n",
       "      <td>NaN</td>\n",
       "      <td>NaN</td>\n",
       "      <td>NaN</td>\n",
       "      <td>0</td>\n",
       "      <td>9</td>\n",
       "      <td>2008</td>\n",
       "      <td>WD</td>\n",
       "      <td>Normal</td>\n",
       "      <td>223500</td>\n",
       "    </tr>\n",
       "    <tr>\n",
       "      <th>3</th>\n",
       "      <td>70</td>\n",
       "      <td>RL</td>\n",
       "      <td>60.0</td>\n",
       "      <td>9550</td>\n",
       "      <td>Pave</td>\n",
       "      <td>NaN</td>\n",
       "      <td>IR1</td>\n",
       "      <td>Lvl</td>\n",
       "      <td>AllPub</td>\n",
       "      <td>Corner</td>\n",
       "      <td>...</td>\n",
       "      <td>0</td>\n",
       "      <td>NaN</td>\n",
       "      <td>NaN</td>\n",
       "      <td>NaN</td>\n",
       "      <td>0</td>\n",
       "      <td>2</td>\n",
       "      <td>2006</td>\n",
       "      <td>WD</td>\n",
       "      <td>Abnorml</td>\n",
       "      <td>140000</td>\n",
       "    </tr>\n",
       "    <tr>\n",
       "      <th>4</th>\n",
       "      <td>60</td>\n",
       "      <td>RL</td>\n",
       "      <td>84.0</td>\n",
       "      <td>14260</td>\n",
       "      <td>Pave</td>\n",
       "      <td>NaN</td>\n",
       "      <td>IR1</td>\n",
       "      <td>Lvl</td>\n",
       "      <td>AllPub</td>\n",
       "      <td>FR2</td>\n",
       "      <td>...</td>\n",
       "      <td>0</td>\n",
       "      <td>NaN</td>\n",
       "      <td>NaN</td>\n",
       "      <td>NaN</td>\n",
       "      <td>0</td>\n",
       "      <td>12</td>\n",
       "      <td>2008</td>\n",
       "      <td>WD</td>\n",
       "      <td>Normal</td>\n",
       "      <td>250000</td>\n",
       "    </tr>\n",
       "  </tbody>\n",
       "</table>\n",
       "<p>5 rows × 80 columns</p>\n",
       "</div>"
      ],
      "text/plain": [
       "   MSSubClass MSZoning  LotFrontage  LotArea Street Alley LotShape  \\\n",
       "0          60       RL         65.0     8450   Pave   NaN      Reg   \n",
       "1          20       RL         80.0     9600   Pave   NaN      Reg   \n",
       "2          60       RL         68.0    11250   Pave   NaN      IR1   \n",
       "3          70       RL         60.0     9550   Pave   NaN      IR1   \n",
       "4          60       RL         84.0    14260   Pave   NaN      IR1   \n",
       "\n",
       "  LandContour Utilities LotConfig  ... PoolArea PoolQC Fence MiscFeature  \\\n",
       "0         Lvl    AllPub    Inside  ...        0    NaN   NaN         NaN   \n",
       "1         Lvl    AllPub       FR2  ...        0    NaN   NaN         NaN   \n",
       "2         Lvl    AllPub    Inside  ...        0    NaN   NaN         NaN   \n",
       "3         Lvl    AllPub    Corner  ...        0    NaN   NaN         NaN   \n",
       "4         Lvl    AllPub       FR2  ...        0    NaN   NaN         NaN   \n",
       "\n",
       "  MiscVal MoSold  YrSold  SaleType  SaleCondition  SalePrice  \n",
       "0       0      2    2008        WD         Normal     208500  \n",
       "1       0      5    2007        WD         Normal     181500  \n",
       "2       0      9    2008        WD         Normal     223500  \n",
       "3       0      2    2006        WD        Abnorml     140000  \n",
       "4       0     12    2008        WD         Normal     250000  \n",
       "\n",
       "[5 rows x 80 columns]"
      ]
     },
     "execution_count": 6,
     "metadata": {},
     "output_type": "execute_result"
    }
   ],
   "source": [
    "#see the first 5 of the train dataset to get an idea of the variables\n",
    "df_train.head(5)"
   ]
  },
  {
   "cell_type": "code",
   "execution_count": 7,
   "id": "485c121f",
   "metadata": {
    "execution": {
     "iopub.execute_input": "2021-11-28T11:51:08.420201Z",
     "iopub.status.busy": "2021-11-28T11:51:08.413001Z",
     "iopub.status.idle": "2021-11-28T11:51:08.423830Z",
     "shell.execute_reply": "2021-11-28T11:51:08.424439Z",
     "shell.execute_reply.started": "2021-11-28T11:19:13.763178Z"
    },
    "papermill": {
     "duration": 0.066487,
     "end_time": "2021-11-28T11:51:08.424610",
     "exception": false,
     "start_time": "2021-11-28T11:51:08.358123",
     "status": "completed"
    },
    "tags": []
   },
   "outputs": [
    {
     "data": {
      "text/html": [
       "<div>\n",
       "<style scoped>\n",
       "    .dataframe tbody tr th:only-of-type {\n",
       "        vertical-align: middle;\n",
       "    }\n",
       "\n",
       "    .dataframe tbody tr th {\n",
       "        vertical-align: top;\n",
       "    }\n",
       "\n",
       "    .dataframe thead th {\n",
       "        text-align: right;\n",
       "    }\n",
       "</style>\n",
       "<table border=\"1\" class=\"dataframe\">\n",
       "  <thead>\n",
       "    <tr style=\"text-align: right;\">\n",
       "      <th></th>\n",
       "      <th>MSSubClass</th>\n",
       "      <th>MSZoning</th>\n",
       "      <th>LotFrontage</th>\n",
       "      <th>LotArea</th>\n",
       "      <th>Street</th>\n",
       "      <th>Alley</th>\n",
       "      <th>LotShape</th>\n",
       "      <th>LandContour</th>\n",
       "      <th>Utilities</th>\n",
       "      <th>LotConfig</th>\n",
       "      <th>...</th>\n",
       "      <th>ScreenPorch</th>\n",
       "      <th>PoolArea</th>\n",
       "      <th>PoolQC</th>\n",
       "      <th>Fence</th>\n",
       "      <th>MiscFeature</th>\n",
       "      <th>MiscVal</th>\n",
       "      <th>MoSold</th>\n",
       "      <th>YrSold</th>\n",
       "      <th>SaleType</th>\n",
       "      <th>SaleCondition</th>\n",
       "    </tr>\n",
       "  </thead>\n",
       "  <tbody>\n",
       "    <tr>\n",
       "      <th>0</th>\n",
       "      <td>20</td>\n",
       "      <td>RH</td>\n",
       "      <td>80.0</td>\n",
       "      <td>11622</td>\n",
       "      <td>Pave</td>\n",
       "      <td>NaN</td>\n",
       "      <td>Reg</td>\n",
       "      <td>Lvl</td>\n",
       "      <td>AllPub</td>\n",
       "      <td>Inside</td>\n",
       "      <td>...</td>\n",
       "      <td>120</td>\n",
       "      <td>0</td>\n",
       "      <td>NaN</td>\n",
       "      <td>MnPrv</td>\n",
       "      <td>NaN</td>\n",
       "      <td>0</td>\n",
       "      <td>6</td>\n",
       "      <td>2010</td>\n",
       "      <td>WD</td>\n",
       "      <td>Normal</td>\n",
       "    </tr>\n",
       "    <tr>\n",
       "      <th>1</th>\n",
       "      <td>20</td>\n",
       "      <td>RL</td>\n",
       "      <td>81.0</td>\n",
       "      <td>14267</td>\n",
       "      <td>Pave</td>\n",
       "      <td>NaN</td>\n",
       "      <td>IR1</td>\n",
       "      <td>Lvl</td>\n",
       "      <td>AllPub</td>\n",
       "      <td>Corner</td>\n",
       "      <td>...</td>\n",
       "      <td>0</td>\n",
       "      <td>0</td>\n",
       "      <td>NaN</td>\n",
       "      <td>NaN</td>\n",
       "      <td>Gar2</td>\n",
       "      <td>12500</td>\n",
       "      <td>6</td>\n",
       "      <td>2010</td>\n",
       "      <td>WD</td>\n",
       "      <td>Normal</td>\n",
       "    </tr>\n",
       "    <tr>\n",
       "      <th>2</th>\n",
       "      <td>60</td>\n",
       "      <td>RL</td>\n",
       "      <td>74.0</td>\n",
       "      <td>13830</td>\n",
       "      <td>Pave</td>\n",
       "      <td>NaN</td>\n",
       "      <td>IR1</td>\n",
       "      <td>Lvl</td>\n",
       "      <td>AllPub</td>\n",
       "      <td>Inside</td>\n",
       "      <td>...</td>\n",
       "      <td>0</td>\n",
       "      <td>0</td>\n",
       "      <td>NaN</td>\n",
       "      <td>MnPrv</td>\n",
       "      <td>NaN</td>\n",
       "      <td>0</td>\n",
       "      <td>3</td>\n",
       "      <td>2010</td>\n",
       "      <td>WD</td>\n",
       "      <td>Normal</td>\n",
       "    </tr>\n",
       "    <tr>\n",
       "      <th>3</th>\n",
       "      <td>60</td>\n",
       "      <td>RL</td>\n",
       "      <td>78.0</td>\n",
       "      <td>9978</td>\n",
       "      <td>Pave</td>\n",
       "      <td>NaN</td>\n",
       "      <td>IR1</td>\n",
       "      <td>Lvl</td>\n",
       "      <td>AllPub</td>\n",
       "      <td>Inside</td>\n",
       "      <td>...</td>\n",
       "      <td>0</td>\n",
       "      <td>0</td>\n",
       "      <td>NaN</td>\n",
       "      <td>NaN</td>\n",
       "      <td>NaN</td>\n",
       "      <td>0</td>\n",
       "      <td>6</td>\n",
       "      <td>2010</td>\n",
       "      <td>WD</td>\n",
       "      <td>Normal</td>\n",
       "    </tr>\n",
       "    <tr>\n",
       "      <th>4</th>\n",
       "      <td>120</td>\n",
       "      <td>RL</td>\n",
       "      <td>43.0</td>\n",
       "      <td>5005</td>\n",
       "      <td>Pave</td>\n",
       "      <td>NaN</td>\n",
       "      <td>IR1</td>\n",
       "      <td>HLS</td>\n",
       "      <td>AllPub</td>\n",
       "      <td>Inside</td>\n",
       "      <td>...</td>\n",
       "      <td>144</td>\n",
       "      <td>0</td>\n",
       "      <td>NaN</td>\n",
       "      <td>NaN</td>\n",
       "      <td>NaN</td>\n",
       "      <td>0</td>\n",
       "      <td>1</td>\n",
       "      <td>2010</td>\n",
       "      <td>WD</td>\n",
       "      <td>Normal</td>\n",
       "    </tr>\n",
       "  </tbody>\n",
       "</table>\n",
       "<p>5 rows × 79 columns</p>\n",
       "</div>"
      ],
      "text/plain": [
       "   MSSubClass MSZoning  LotFrontage  LotArea Street Alley LotShape  \\\n",
       "0          20       RH         80.0    11622   Pave   NaN      Reg   \n",
       "1          20       RL         81.0    14267   Pave   NaN      IR1   \n",
       "2          60       RL         74.0    13830   Pave   NaN      IR1   \n",
       "3          60       RL         78.0     9978   Pave   NaN      IR1   \n",
       "4         120       RL         43.0     5005   Pave   NaN      IR1   \n",
       "\n",
       "  LandContour Utilities LotConfig  ... ScreenPorch PoolArea PoolQC  Fence  \\\n",
       "0         Lvl    AllPub    Inside  ...         120        0    NaN  MnPrv   \n",
       "1         Lvl    AllPub    Corner  ...           0        0    NaN    NaN   \n",
       "2         Lvl    AllPub    Inside  ...           0        0    NaN  MnPrv   \n",
       "3         Lvl    AllPub    Inside  ...           0        0    NaN    NaN   \n",
       "4         HLS    AllPub    Inside  ...         144        0    NaN    NaN   \n",
       "\n",
       "  MiscFeature MiscVal  MoSold  YrSold  SaleType  SaleCondition  \n",
       "0         NaN       0       6    2010        WD         Normal  \n",
       "1        Gar2   12500       6    2010        WD         Normal  \n",
       "2         NaN       0       3    2010        WD         Normal  \n",
       "3         NaN       0       6    2010        WD         Normal  \n",
       "4         NaN       0       1    2010        WD         Normal  \n",
       "\n",
       "[5 rows x 79 columns]"
      ]
     },
     "execution_count": 7,
     "metadata": {},
     "output_type": "execute_result"
    }
   ],
   "source": [
    "#see the first 5 of the test dataset\n",
    "df_test.head(5)"
   ]
  },
  {
   "cell_type": "code",
   "execution_count": 8,
   "id": "afc3b425",
   "metadata": {
    "execution": {
     "iopub.execute_input": "2021-11-28T11:51:08.502332Z",
     "iopub.status.busy": "2021-11-28T11:51:08.501355Z",
     "iopub.status.idle": "2021-11-28T11:51:09.823698Z",
     "shell.execute_reply": "2021-11-28T11:51:09.824193Z",
     "shell.execute_reply.started": "2021-11-28T11:19:13.792802Z"
    },
    "papermill": {
     "duration": 1.362721,
     "end_time": "2021-11-28T11:51:09.824374",
     "exception": false,
     "start_time": "2021-11-28T11:51:08.461653",
     "status": "completed"
    },
    "tags": []
   },
   "outputs": [
    {
     "data": {
      "text/plain": [
       "<AxesSubplot:>"
      ]
     },
     "execution_count": 8,
     "metadata": {},
     "output_type": "execute_result"
    },
    {
     "data": {
      "image/png": "[encoded data removed]",
      "text/plain": [
       "<Figure size 864x648 with 2 Axes>"
      ]
     },
     "metadata": {
      "needs_background": "light"
     },
     "output_type": "display_data"
    }
   ],
   "source": [
    "#correlation map\n",
    "corrmat = df_train.corr()\n",
    "plt.subplots(figsize=(12,9))\n",
    "sns.heatmap(corrmat, vmax=0.8, square=True)"
   ]
  },
  {
   "cell_type": "code",
   "execution_count": 9,
   "id": "843e940e",
   "metadata": {
    "execution": {
     "iopub.execute_input": "2021-11-28T11:51:09.912782Z",
     "iopub.status.busy": "2021-11-28T11:51:09.912002Z",
     "iopub.status.idle": "2021-11-28T11:51:10.704588Z",
     "shell.execute_reply": "2021-11-28T11:51:10.705645Z",
     "shell.execute_reply.started": "2021-11-28T11:19:15.171317Z"
    },
    "papermill": {
     "duration": 0.841387,
     "end_time": "2021-11-28T11:51:10.705861",
     "exception": false,
     "start_time": "2021-11-28T11:51:09.864474",
     "status": "completed"
    },
    "tags": []
   },
   "outputs": [
    {
     "data": {
      "image/png": "[encoded data removed]",
      "text/plain": [
       "<Figure size 432x288 with 2 Axes>"
      ]
     },
     "metadata": {},
     "output_type": "display_data"
    }
   ],
   "source": [
    "#saleprice correlation\n",
    "k = 10\n",
    "cols = corrmat.nlargest(k, 'SalePrice')['SalePrice'].index\n",
    "cm = np.corrcoef(df_train[cols].values.T)\n",
    "sns.set(font_scale=1.25)\n",
    "hm = sns.heatmap(cm, cbar=True, annot=True, square=True, fmt='.2f', annot_kws={'size': 10}, yticklabels=cols.values, xticklabels=cols.values)\n",
    "plt.show()"
   ]
  },
  {
   "cell_type": "code",
   "execution_count": 10,
   "id": "e479ff01",
   "metadata": {
    "execution": {
     "iopub.execute_input": "2021-11-28T11:51:10.800580Z",
     "iopub.status.busy": "2021-11-28T11:51:10.799525Z",
     "iopub.status.idle": "2021-11-28T11:51:11.098518Z",
     "shell.execute_reply": "2021-11-28T11:51:11.099048Z",
     "shell.execute_reply.started": "2021-11-28T11:19:15.986799Z"
    },
    "papermill": {
     "duration": 0.348559,
     "end_time": "2021-11-28T11:51:11.099217",
     "exception": false,
     "start_time": "2021-11-28T11:51:10.750658",
     "status": "completed"
    },
    "tags": []
   },
   "outputs": [
    {
     "data": {
      "image/png": "[encoded data removed]",
      "text/plain": [
       "<Figure size 432x288 with 1 Axes>"
      ]
     },
     "metadata": {},
     "output_type": "display_data"
    }
   ],
   "source": [
    "data = pd.concat({\"GrLivArea\":df_train, \"SalePrice\":df_train})\n",
    "data.plot(x = \"GrLivArea\", y = \"SalePrice\", kind = \"scatter\")\n",
    "plt.ylabel('SalePrice', fontsize=12)\n",
    "plt.xlabel('GrLivArea', fontsize=12)\n",
    "plt.show()"
   ]
  },
  {
   "cell_type": "code",
   "execution_count": 11,
   "id": "95be86ac",
   "metadata": {
    "execution": {
     "iopub.execute_input": "2021-11-28T11:51:11.190943Z",
     "iopub.status.busy": "2021-11-28T11:51:11.189887Z",
     "iopub.status.idle": "2021-11-28T11:51:11.478332Z",
     "shell.execute_reply": "2021-11-28T11:51:11.478854Z",
     "shell.execute_reply.started": "2021-11-28T11:19:16.311906Z"
    },
    "papermill": {
     "duration": 0.336411,
     "end_time": "2021-11-28T11:51:11.479037",
     "exception": false,
     "start_time": "2021-11-28T11:51:11.142626",
     "status": "completed"
    },
    "tags": []
   },
   "outputs": [
    {
     "data": {
      "image/png": "[encoded data removed]",
      "text/plain": [
       "<Figure size 432x288 with 1 Axes>"
      ]
     },
     "metadata": {},
     "output_type": "display_data"
    }
   ],
   "source": [
    "data = pd.concat({\"TotalBsmtSF\":df_train, \"SalePrice\":df_train})\n",
    "data.plot(x = \"TotalBsmtSF\", y = \"SalePrice\", kind = \"scatter\")\n",
    "plt.ylabel('SalePrice', fontsize=12)\n",
    "plt.xlabel('TotalBsmtSF', fontsize=12)\n",
    "plt.show()"
   ]
  },
  {
   "cell_type": "code",
   "execution_count": 12,
   "id": "71b2d5b0",
   "metadata": {
    "execution": {
     "iopub.execute_input": "2021-11-28T11:51:11.571599Z",
     "iopub.status.busy": "2021-11-28T11:51:11.570452Z",
     "iopub.status.idle": "2021-11-28T11:51:11.583236Z",
     "shell.execute_reply": "2021-11-28T11:51:11.582544Z",
     "shell.execute_reply.started": "2021-11-28T11:19:16.612861Z"
    },
    "papermill": {
     "duration": 0.060517,
     "end_time": "2021-11-28T11:51:11.583379",
     "exception": false,
     "start_time": "2021-11-28T11:51:11.522862",
     "status": "completed"
    },
    "tags": []
   },
   "outputs": [],
   "source": [
    "#Deleting outliers\n",
    "df_train = df_train.drop(df_train[(df_train['GrLivArea']>4000) & (df_train['SalePrice']<300000)].index)\n",
    "\n",
    "df_train = df_train.drop(df_train[(df_train['TotalBsmtSF']>4000)].index)"
   ]
  },
  {
   "cell_type": "code",
   "execution_count": 13,
   "id": "ef408682",
   "metadata": {
    "execution": {
     "iopub.execute_input": "2021-11-28T11:51:11.680247Z",
     "iopub.status.busy": "2021-11-28T11:51:11.679508Z",
     "iopub.status.idle": "2021-11-28T11:51:11.682073Z",
     "shell.execute_reply": "2021-11-28T11:51:11.682594Z",
     "shell.execute_reply.started": "2021-11-28T11:19:16.62764Z"
    },
    "papermill": {
     "duration": 0.05232,
     "end_time": "2021-11-28T11:51:11.682770",
     "exception": false,
     "start_time": "2021-11-28T11:51:11.630450",
     "status": "completed"
    },
    "tags": []
   },
   "outputs": [
    {
     "name": "stdout",
     "output_type": "stream",
     "text": [
      "The train data size: (1458, 80)\n"
     ]
    }
   ],
   "source": [
    "#check the size of df_train after deleting outliers\n",
    "print('The train data size: {}'.format(df_train.shape))"
   ]
  },
  {
   "cell_type": "code",
   "execution_count": 14,
   "id": "9cbf7e1b",
   "metadata": {
    "execution": {
     "iopub.execute_input": "2021-11-28T11:51:11.806270Z",
     "iopub.status.busy": "2021-11-28T11:51:11.780069Z",
     "iopub.status.idle": "2021-11-28T11:51:12.396048Z",
     "shell.execute_reply": "2021-11-28T11:51:12.395423Z",
     "shell.execute_reply.started": "2021-11-28T11:19:16.639288Z"
    },
    "papermill": {
     "duration": 0.667849,
     "end_time": "2021-11-28T11:51:12.396185",
     "exception": false,
     "start_time": "2021-11-28T11:51:11.728336",
     "status": "completed"
    },
    "tags": []
   },
   "outputs": [
    {
     "name": "stdout",
     "output_type": "stream",
     "text": [
      "Skewness: 1.881296\n",
      "Kurtosis: 6.523067\n"
     ]
    },
    {
     "data": {
      "image/png": "[encoded data removed]",
      "text/plain": [
       "<Figure size 432x288 with 1 Axes>"
      ]
     },
     "metadata": {},
     "output_type": "display_data"
    },
    {
     "data": {
      "image/png": "[encoded data removed]",
      "text/plain": [
       "<Figure size 432x288 with 1 Axes>"
      ]
     },
     "metadata": {},
     "output_type": "display_data"
    }
   ],
   "source": [
    "# Skew and kurt\n",
    "print(\"Skewness: %f\" % df_train['SalePrice'].skew())\n",
    "print(\"Kurtosis: %f\" % df_train['SalePrice'].kurt())\n",
    "\n",
    "#check histogrom of saleprice\n",
    "sns.distplot(df_train['SalePrice'], fit = norm)\n",
    "plt.ylabel('Frequency')\n",
    "fig = plt.figure()\n",
    "res = stats.probplot(df_train['SalePrice'], plot=plt)\n",
    "plt.show()"
   ]
  },
  {
   "cell_type": "code",
   "execution_count": 15,
   "id": "34fa0f9c",
   "metadata": {
    "execution": {
     "iopub.execute_input": "2021-11-28T11:51:12.494046Z",
     "iopub.status.busy": "2021-11-28T11:51:12.493341Z",
     "iopub.status.idle": "2021-11-28T11:51:13.108972Z",
     "shell.execute_reply": "2021-11-28T11:51:13.109477Z",
     "shell.execute_reply.started": "2021-11-28T11:19:17.301513Z"
    },
    "papermill": {
     "duration": 0.665968,
     "end_time": "2021-11-28T11:51:13.109653",
     "exception": false,
     "start_time": "2021-11-28T11:51:12.443685",
     "status": "completed"
    },
    "tags": []
   },
   "outputs": [
    {
     "data": {
      "image/png": "[encoded data removed]",
      "text/plain": [
       "<Figure size 432x288 with 1 Axes>"
      ]
     },
     "metadata": {},
     "output_type": "display_data"
    },
    {
     "data": {
      "image/png": "[encoded data removed]",
      "text/plain": [
       "<Figure size 432x288 with 1 Axes>"
      ]
     },
     "metadata": {},
     "output_type": "display_data"
    }
   ],
   "source": [
    "#we use log1p function for 'SalePrice' column\n",
    "df_train['SalePrice'] = np.log1p(df_train['SalePrice'])\n",
    "\n",
    "#then plot the target again\n",
    "sns.distplot(df_train['SalePrice'], fit = norm)\n",
    "plt.ylabel('Frequency', fontsize=12)\n",
    "fig = plt.figure()\n",
    "res = stats.probplot(df_train['SalePrice'], plot=plt)\n",
    "plt.show()"
   ]
  },
  {
   "cell_type": "code",
   "execution_count": 16,
   "id": "4cc11ff5",
   "metadata": {
    "execution": {
     "iopub.execute_input": "2021-11-28T11:51:13.211573Z",
     "iopub.status.busy": "2021-11-28T11:51:13.210940Z",
     "iopub.status.idle": "2021-11-28T11:51:13.240127Z",
     "shell.execute_reply": "2021-11-28T11:51:13.239014Z",
     "shell.execute_reply.started": "2021-11-28T11:19:17.924961Z"
    },
    "papermill": {
     "duration": 0.081305,
     "end_time": "2021-11-28T11:51:13.240361",
     "exception": false,
     "start_time": "2021-11-28T11:51:13.159056",
     "status": "completed"
    },
    "tags": []
   },
   "outputs": [
    {
     "name": "stdout",
     "output_type": "stream",
     "text": [
      "df_all siza: (2917, 79)\n"
     ]
    }
   ],
   "source": [
    "n_train = df_train.shape[0]\n",
    "n_test = df_test.shape[0]\n",
    "y_train = df_train['SalePrice'].values\n",
    "df_train.drop('SalePrice', axis=1, inplace=True)\n",
    "\n",
    "#before handling missing data, we connect test and training data\n",
    "df_all = pd.concat((df_train, df_test)).reset_index(drop = True)\n",
    "print('df_all siza: {}'.format(df_all.shape))"
   ]
  },
  {
   "cell_type": "code",
   "execution_count": 17,
   "id": "87dc0edb",
   "metadata": {
    "execution": {
     "iopub.execute_input": "2021-11-28T11:51:13.359723Z",
     "iopub.status.busy": "2021-11-28T11:51:13.359025Z",
     "iopub.status.idle": "2021-11-28T11:51:13.366650Z",
     "shell.execute_reply": "2021-11-28T11:51:13.367400Z",
     "shell.execute_reply.started": "2021-11-28T11:19:17.95911Z"
    },
    "papermill": {
     "duration": 0.077057,
     "end_time": "2021-11-28T11:51:13.367669",
     "exception": false,
     "start_time": "2021-11-28T11:51:13.290612",
     "status": "completed"
    },
    "tags": []
   },
   "outputs": [
    {
     "name": "stdout",
     "output_type": "stream",
     "text": [
      "df_all_NA siza: (79, 2)\n"
     ]
    }
   ],
   "source": [
    "#missing data\n",
    "df_all_NA = pd.isnull(df_all).sum().sort_values(ascending=False)\n",
    "NA_percent = ((df_all_NA / len(df_all))*100).sort_values(ascending=False)\n",
    "df_all_NA = pd.concat([df_all_NA, NA_percent], axis=1, keys=['Number', 'Percent'])\n",
    "#df_all_NA = df_all_NA.drop(df_all_NA[df_all_NA==0].index)\n",
    "print('df_all_NA siza: {}'.format(df_all_NA.shape))"
   ]
  },
  {
   "cell_type": "code",
   "execution_count": 18,
   "id": "89f87429",
   "metadata": {
    "execution": {
     "iopub.execute_input": "2021-11-28T11:51:13.472544Z",
     "iopub.status.busy": "2021-11-28T11:51:13.471860Z",
     "iopub.status.idle": "2021-11-28T11:51:13.482592Z",
     "shell.execute_reply": "2021-11-28T11:51:13.483227Z",
     "shell.execute_reply.started": "2021-11-28T11:19:17.987459Z"
    },
    "papermill": {
     "duration": 0.064542,
     "end_time": "2021-11-28T11:51:13.483391",
     "exception": false,
     "start_time": "2021-11-28T11:51:13.418849",
     "status": "completed"
    },
    "tags": []
   },
   "outputs": [
    {
     "data": {
      "text/html": [
       "<div>\n",
       "<style scoped>\n",
       "    .dataframe tbody tr th:only-of-type {\n",
       "        vertical-align: middle;\n",
       "    }\n",
       "\n",
       "    .dataframe tbody tr th {\n",
       "        vertical-align: top;\n",
       "    }\n",
       "\n",
       "    .dataframe thead th {\n",
       "        text-align: right;\n",
       "    }\n",
       "</style>\n",
       "<table border=\"1\" class=\"dataframe\">\n",
       "  <thead>\n",
       "    <tr style=\"text-align: right;\">\n",
       "      <th></th>\n",
       "      <th>Number</th>\n",
       "      <th>Percent</th>\n",
       "    </tr>\n",
       "  </thead>\n",
       "  <tbody>\n",
       "    <tr>\n",
       "      <th>PoolQC</th>\n",
       "      <td>2908</td>\n",
       "      <td>99.691464</td>\n",
       "    </tr>\n",
       "    <tr>\n",
       "      <th>MiscFeature</th>\n",
       "      <td>2812</td>\n",
       "      <td>96.400411</td>\n",
       "    </tr>\n",
       "    <tr>\n",
       "      <th>Alley</th>\n",
       "      <td>2719</td>\n",
       "      <td>93.212204</td>\n",
       "    </tr>\n",
       "    <tr>\n",
       "      <th>Fence</th>\n",
       "      <td>2346</td>\n",
       "      <td>80.425094</td>\n",
       "    </tr>\n",
       "    <tr>\n",
       "      <th>FireplaceQu</th>\n",
       "      <td>1420</td>\n",
       "      <td>48.680151</td>\n",
       "    </tr>\n",
       "    <tr>\n",
       "      <th>LotFrontage</th>\n",
       "      <td>486</td>\n",
       "      <td>16.660953</td>\n",
       "    </tr>\n",
       "    <tr>\n",
       "      <th>GarageYrBlt</th>\n",
       "      <td>159</td>\n",
       "      <td>5.450806</td>\n",
       "    </tr>\n",
       "    <tr>\n",
       "      <th>GarageFinish</th>\n",
       "      <td>159</td>\n",
       "      <td>5.450806</td>\n",
       "    </tr>\n",
       "    <tr>\n",
       "      <th>GarageQual</th>\n",
       "      <td>159</td>\n",
       "      <td>5.450806</td>\n",
       "    </tr>\n",
       "    <tr>\n",
       "      <th>GarageCond</th>\n",
       "      <td>159</td>\n",
       "      <td>5.450806</td>\n",
       "    </tr>\n",
       "    <tr>\n",
       "      <th>GarageType</th>\n",
       "      <td>157</td>\n",
       "      <td>5.382242</td>\n",
       "    </tr>\n",
       "    <tr>\n",
       "      <th>BsmtExposure</th>\n",
       "      <td>82</td>\n",
       "      <td>2.811107</td>\n",
       "    </tr>\n",
       "    <tr>\n",
       "      <th>BsmtCond</th>\n",
       "      <td>82</td>\n",
       "      <td>2.811107</td>\n",
       "    </tr>\n",
       "    <tr>\n",
       "      <th>BsmtQual</th>\n",
       "      <td>81</td>\n",
       "      <td>2.776826</td>\n",
       "    </tr>\n",
       "    <tr>\n",
       "      <th>BsmtFinType2</th>\n",
       "      <td>80</td>\n",
       "      <td>2.742544</td>\n",
       "    </tr>\n",
       "    <tr>\n",
       "      <th>BsmtFinType1</th>\n",
       "      <td>79</td>\n",
       "      <td>2.708262</td>\n",
       "    </tr>\n",
       "    <tr>\n",
       "      <th>MasVnrType</th>\n",
       "      <td>24</td>\n",
       "      <td>0.822763</td>\n",
       "    </tr>\n",
       "    <tr>\n",
       "      <th>MasVnrArea</th>\n",
       "      <td>23</td>\n",
       "      <td>0.788481</td>\n",
       "    </tr>\n",
       "    <tr>\n",
       "      <th>MSZoning</th>\n",
       "      <td>4</td>\n",
       "      <td>0.137127</td>\n",
       "    </tr>\n",
       "    <tr>\n",
       "      <th>Functional</th>\n",
       "      <td>2</td>\n",
       "      <td>0.068564</td>\n",
       "    </tr>\n",
       "    <tr>\n",
       "      <th>BsmtHalfBath</th>\n",
       "      <td>2</td>\n",
       "      <td>0.068564</td>\n",
       "    </tr>\n",
       "    <tr>\n",
       "      <th>BsmtFullBath</th>\n",
       "      <td>2</td>\n",
       "      <td>0.068564</td>\n",
       "    </tr>\n",
       "    <tr>\n",
       "      <th>Utilities</th>\n",
       "      <td>2</td>\n",
       "      <td>0.068564</td>\n",
       "    </tr>\n",
       "    <tr>\n",
       "      <th>SaleType</th>\n",
       "      <td>1</td>\n",
       "      <td>0.034282</td>\n",
       "    </tr>\n",
       "    <tr>\n",
       "      <th>BsmtFinSF1</th>\n",
       "      <td>1</td>\n",
       "      <td>0.034282</td>\n",
       "    </tr>\n",
       "    <tr>\n",
       "      <th>KitchenQual</th>\n",
       "      <td>1</td>\n",
       "      <td>0.034282</td>\n",
       "    </tr>\n",
       "    <tr>\n",
       "      <th>GarageCars</th>\n",
       "      <td>1</td>\n",
       "      <td>0.034282</td>\n",
       "    </tr>\n",
       "    <tr>\n",
       "      <th>BsmtUnfSF</th>\n",
       "      <td>1</td>\n",
       "      <td>0.034282</td>\n",
       "    </tr>\n",
       "    <tr>\n",
       "      <th>TotalBsmtSF</th>\n",
       "      <td>1</td>\n",
       "      <td>0.034282</td>\n",
       "    </tr>\n",
       "    <tr>\n",
       "      <th>Exterior2nd</th>\n",
       "      <td>1</td>\n",
       "      <td>0.034282</td>\n",
       "    </tr>\n",
       "    <tr>\n",
       "      <th>Exterior1st</th>\n",
       "      <td>1</td>\n",
       "      <td>0.034282</td>\n",
       "    </tr>\n",
       "    <tr>\n",
       "      <th>GarageArea</th>\n",
       "      <td>1</td>\n",
       "      <td>0.034282</td>\n",
       "    </tr>\n",
       "    <tr>\n",
       "      <th>Electrical</th>\n",
       "      <td>1</td>\n",
       "      <td>0.034282</td>\n",
       "    </tr>\n",
       "    <tr>\n",
       "      <th>BsmtFinSF2</th>\n",
       "      <td>1</td>\n",
       "      <td>0.034282</td>\n",
       "    </tr>\n",
       "    <tr>\n",
       "      <th>TotRmsAbvGrd</th>\n",
       "      <td>0</td>\n",
       "      <td>0.000000</td>\n",
       "    </tr>\n",
       "  </tbody>\n",
       "</table>\n",
       "</div>"
      ],
      "text/plain": [
       "              Number    Percent\n",
       "PoolQC          2908  99.691464\n",
       "MiscFeature     2812  96.400411\n",
       "Alley           2719  93.212204\n",
       "Fence           2346  80.425094\n",
       "FireplaceQu     1420  48.680151\n",
       "LotFrontage      486  16.660953\n",
       "GarageYrBlt      159   5.450806\n",
       "GarageFinish     159   5.450806\n",
       "GarageQual       159   5.450806\n",
       "GarageCond       159   5.450806\n",
       "GarageType       157   5.382242\n",
       "BsmtExposure      82   2.811107\n",
       "BsmtCond          82   2.811107\n",
       "BsmtQual          81   2.776826\n",
       "BsmtFinType2      80   2.742544\n",
       "BsmtFinType1      79   2.708262\n",
       "MasVnrType        24   0.822763\n",
       "MasVnrArea        23   0.788481\n",
       "MSZoning           4   0.137127\n",
       "Functional         2   0.068564\n",
       "BsmtHalfBath       2   0.068564\n",
       "BsmtFullBath       2   0.068564\n",
       "Utilities          2   0.068564\n",
       "SaleType           1   0.034282\n",
       "BsmtFinSF1         1   0.034282\n",
       "KitchenQual        1   0.034282\n",
       "GarageCars         1   0.034282\n",
       "BsmtUnfSF          1   0.034282\n",
       "TotalBsmtSF        1   0.034282\n",
       "Exterior2nd        1   0.034282\n",
       "Exterior1st        1   0.034282\n",
       "GarageArea         1   0.034282\n",
       "Electrical         1   0.034282\n",
       "BsmtFinSF2         1   0.034282\n",
       "TotRmsAbvGrd       0   0.000000"
      ]
     },
     "execution_count": 18,
     "metadata": {},
     "output_type": "execute_result"
    }
   ],
   "source": [
    "df_all_NA.head(35)"
   ]
  },
  {
   "cell_type": "code",
   "execution_count": 19,
   "id": "a0ec7b33",
   "metadata": {
    "execution": {
     "iopub.execute_input": "2021-11-28T11:51:13.586546Z",
     "iopub.status.busy": "2021-11-28T11:51:13.585909Z",
     "iopub.status.idle": "2021-11-28T11:51:13.593026Z",
     "shell.execute_reply": "2021-11-28T11:51:13.593718Z",
     "shell.execute_reply.started": "2021-11-28T11:19:18.0078Z"
    },
    "papermill": {
     "duration": 0.060636,
     "end_time": "2021-11-28T11:51:13.593944",
     "exception": false,
     "start_time": "2021-11-28T11:51:13.533308",
     "status": "completed"
    },
    "tags": []
   },
   "outputs": [
    {
     "name": "stdout",
     "output_type": "stream",
     "text": [
      "df_all size: (2917, 74)\n"
     ]
    }
   ],
   "source": [
    "#drop some feature\n",
    "df_all = df_all.drop((df_all_NA[df_all_NA['Percent'] > 40].index), 1)\n",
    "print('df_all size: {}'.format(df_all.shape))"
   ]
  },
  {
   "cell_type": "code",
   "execution_count": 20,
   "id": "cb0874da",
   "metadata": {
    "execution": {
     "iopub.execute_input": "2021-11-28T11:51:13.760416Z",
     "iopub.status.busy": "2021-11-28T11:51:13.759728Z",
     "iopub.status.idle": "2021-11-28T11:51:13.798926Z",
     "shell.execute_reply": "2021-11-28T11:51:13.798306Z",
     "shell.execute_reply.started": "2021-11-28T11:19:18.019327Z"
    },
    "papermill": {
     "duration": 0.092868,
     "end_time": "2021-11-28T11:51:13.799072",
     "exception": false,
     "start_time": "2021-11-28T11:51:13.706204",
     "status": "completed"
    },
    "tags": []
   },
   "outputs": [],
   "source": [
    "#input missing value\n",
    "\n",
    "\n",
    "df_all['LotFrontage'] = df_all.groupby('Neighborhood')['LotFrontage'].transform(lambda x: x.fillna(x.median()))\n",
    "\n",
    "for c in ('GarageYrBlt', 'GarageArea', 'GarageCars', 'BsmtFinSF1', 'BsmtFinSF2', 'BsmtUnfSF','TotalBsmtSF', 'BsmtFullBath','BsmtHalfBath', 'MasVnrArea'):\n",
    "    df_all[c] = df_all[c].fillna(0)\n",
    "    \n",
    "for c in ('GarageType', 'GarageFinish', 'GarageQual', 'GarageCond', 'BsmtQual', 'BsmtCond', 'BsmtExposure', 'BsmtFinType1','BsmtFinType2', 'MasVnrType', 'MSSubClass'):\n",
    "    df_all[c] = df_all[c].fillna('None')\n",
    "\n",
    "df_all['MSZoning'] = df_all['MSZoning'].fillna(df_all['MSZoning'].mode()[0])\n",
    "\n",
    "df_all = df_all.drop(['Utilities'], axis=1)\n",
    "\n",
    "df_all[\"Functional\"] = df_all[\"Functional\"].fillna(\"Typ\")\n",
    "\n",
    "df_all['Electrical'] = df_all['Electrical'].fillna(df_all['Electrical'].mode()[0])\n",
    "\n",
    "df_all['KitchenQual'] = df_all['KitchenQual'].fillna(df_all['KitchenQual'].mode()[0])\n",
    "\n",
    "df_all['Exterior1st'] = df_all['Exterior1st'].fillna(df_all['Exterior1st'].mode()[0])\n",
    "\n",
    "df_all['Exterior2nd'] = df_all['Exterior2nd'].fillna(df_all['Exterior2nd'].mode()[0])\n",
    "\n",
    "df_all['SaleType'] = df_all['SaleType'].fillna(df_all['SaleType'].mode()[0])"
   ]
  },
  {
   "cell_type": "code",
   "execution_count": 21,
   "id": "423bb07b",
   "metadata": {
    "execution": {
     "iopub.execute_input": "2021-11-28T11:51:13.904825Z",
     "iopub.status.busy": "2021-11-28T11:51:13.904177Z",
     "iopub.status.idle": "2021-11-28T11:51:13.925515Z",
     "shell.execute_reply": "2021-11-28T11:51:13.926187Z",
     "shell.execute_reply.started": "2021-11-28T11:19:18.065346Z"
    },
    "papermill": {
     "duration": 0.076489,
     "end_time": "2021-11-28T11:51:13.926452",
     "exception": false,
     "start_time": "2021-11-28T11:51:13.849963",
     "status": "completed"
    },
    "tags": []
   },
   "outputs": [
    {
     "name": "stdout",
     "output_type": "stream",
     "text": [
      "MSSubClass       0\n",
      "HeatingQC        0\n",
      "Fireplaces       0\n",
      "Functional       0\n",
      "TotRmsAbvGrd     0\n",
      "                ..\n",
      "ExterQual        0\n",
      "MasVnrArea       0\n",
      "MasVnrType       0\n",
      "Exterior2nd      0\n",
      "SaleCondition    0\n",
      "Length: 73, dtype: int64\n"
     ]
    }
   ],
   "source": [
    "#check remains missing value\n",
    "print(pd.isnull(df_all).sum().sort_values(ascending=False))"
   ]
  },
  {
   "cell_type": "code",
   "execution_count": 22,
   "id": "76d7631f",
   "metadata": {
    "execution": {
     "iopub.execute_input": "2021-11-28T11:51:14.032554Z",
     "iopub.status.busy": "2021-11-28T11:51:14.031599Z",
     "iopub.status.idle": "2021-11-28T11:51:14.055440Z",
     "shell.execute_reply": "2021-11-28T11:51:14.056015Z",
     "shell.execute_reply.started": "2021-11-28T11:19:18.089734Z"
    },
    "papermill": {
     "duration": 0.078454,
     "end_time": "2021-11-28T11:51:14.056183",
     "exception": false,
     "start_time": "2021-11-28T11:51:13.977729",
     "status": "completed"
    },
    "tags": []
   },
   "outputs": [],
   "source": [
    "#convert some numerical feature to categorical\n",
    "\n",
    "df_all['OverallCond'] = df_all['OverallCond'].astype(str)\n",
    "df_all['MSSubClass'] = df_all['MSSubClass'].astype(str)\n",
    "df_all['YrSold'] = df_all['YrSold'].astype(str)\n",
    "df_all['MoSold'] = df_all['MoSold'].astype(str)"
   ]
  },
  {
   "cell_type": "code",
   "execution_count": 23,
   "id": "05a32551",
   "metadata": {
    "execution": {
     "iopub.execute_input": "2021-11-28T11:51:14.161941Z",
     "iopub.status.busy": "2021-11-28T11:51:14.160948Z",
     "iopub.status.idle": "2021-11-28T11:51:14.344475Z",
     "shell.execute_reply": "2021-11-28T11:51:14.344983Z",
     "shell.execute_reply.started": "2021-11-28T11:19:18.118826Z"
    },
    "papermill": {
     "duration": 0.237603,
     "end_time": "2021-11-28T11:51:14.345146",
     "exception": false,
     "start_time": "2021-11-28T11:51:14.107543",
     "status": "completed"
    },
    "tags": []
   },
   "outputs": [
    {
     "name": "stdout",
     "output_type": "stream",
     "text": [
      "df_all size: (2917, 73)\n"
     ]
    }
   ],
   "source": [
    "#encode some categorical feature as ordered number\n",
    "from sklearn.preprocessing import LabelEncoder\n",
    "\n",
    "cols = ('BsmtQual', 'BsmtCond', 'GarageQual', 'GarageCond', \n",
    "        'ExterQual', 'ExterCond','HeatingQC', 'KitchenQual', 'BsmtFinType1', \n",
    "        'BsmtFinType2', 'Functional', 'BsmtExposure', 'GarageFinish', 'LandSlope',\n",
    "        'LotShape', 'PavedDrive', 'Street', 'CentralAir', 'MSSubClass', 'OverallCond', \n",
    "        'YrSold', 'MoSold')\n",
    "\n",
    "for c in cols:\n",
    "    lbl = LabelEncoder() \n",
    "    lbl.fit(list(df_all[c].values)) \n",
    "    df_all[c] = lbl.transform(list(df_all[c].values))\n",
    "     \n",
    "print('df_all size: {}'.format(df_all.shape))"
   ]
  },
  {
   "cell_type": "code",
   "execution_count": 24,
   "id": "d350b523",
   "metadata": {
    "execution": {
     "iopub.execute_input": "2021-11-28T11:51:14.452174Z",
     "iopub.status.busy": "2021-11-28T11:51:14.451171Z",
     "iopub.status.idle": "2021-11-28T11:51:14.483392Z",
     "shell.execute_reply": "2021-11-28T11:51:14.483868Z",
     "shell.execute_reply.started": "2021-11-28T11:19:18.335661Z"
    },
    "papermill": {
     "duration": 0.087616,
     "end_time": "2021-11-28T11:51:14.484054",
     "exception": false,
     "start_time": "2021-11-28T11:51:14.396438",
     "status": "completed"
    },
    "tags": []
   },
   "outputs": [
    {
     "data": {
      "text/html": [
       "<div>\n",
       "<style scoped>\n",
       "    .dataframe tbody tr th:only-of-type {\n",
       "        vertical-align: middle;\n",
       "    }\n",
       "\n",
       "    .dataframe tbody tr th {\n",
       "        vertical-align: top;\n",
       "    }\n",
       "\n",
       "    .dataframe thead th {\n",
       "        text-align: right;\n",
       "    }\n",
       "</style>\n",
       "<table border=\"1\" class=\"dataframe\">\n",
       "  <thead>\n",
       "    <tr style=\"text-align: right;\">\n",
       "      <th></th>\n",
       "      <th>skew</th>\n",
       "    </tr>\n",
       "  </thead>\n",
       "  <tbody>\n",
       "    <tr>\n",
       "      <th>MiscVal</th>\n",
       "      <td>21.939672</td>\n",
       "    </tr>\n",
       "    <tr>\n",
       "      <th>PoolArea</th>\n",
       "      <td>17.688664</td>\n",
       "    </tr>\n",
       "    <tr>\n",
       "      <th>LotArea</th>\n",
       "      <td>13.109495</td>\n",
       "    </tr>\n",
       "    <tr>\n",
       "      <th>LowQualFinSF</th>\n",
       "      <td>12.084539</td>\n",
       "    </tr>\n",
       "    <tr>\n",
       "      <th>3SsnPorch</th>\n",
       "      <td>11.372080</td>\n",
       "    </tr>\n",
       "    <tr>\n",
       "      <th>LandSlope</th>\n",
       "      <td>4.973254</td>\n",
       "    </tr>\n",
       "    <tr>\n",
       "      <th>KitchenAbvGr</th>\n",
       "      <td>4.300550</td>\n",
       "    </tr>\n",
       "    <tr>\n",
       "      <th>BsmtFinSF2</th>\n",
       "      <td>4.144503</td>\n",
       "    </tr>\n",
       "    <tr>\n",
       "      <th>EnclosedPorch</th>\n",
       "      <td>4.002344</td>\n",
       "    </tr>\n",
       "    <tr>\n",
       "      <th>ScreenPorch</th>\n",
       "      <td>3.945101</td>\n",
       "    </tr>\n",
       "  </tbody>\n",
       "</table>\n",
       "</div>"
      ],
      "text/plain": [
       "                    skew\n",
       "MiscVal        21.939672\n",
       "PoolArea       17.688664\n",
       "LotArea        13.109495\n",
       "LowQualFinSF   12.084539\n",
       "3SsnPorch      11.372080\n",
       "LandSlope       4.973254\n",
       "KitchenAbvGr    4.300550\n",
       "BsmtFinSF2      4.144503\n",
       "EnclosedPorch   4.002344\n",
       "ScreenPorch     3.945101"
      ]
     },
     "execution_count": 24,
     "metadata": {},
     "output_type": "execute_result"
    }
   ],
   "source": [
    "#skew from the feature\n",
    "numeric_feature = df_all.dtypes[df_all.dtypes != 'object'].index\n",
    "skewed_feature = df_all[numeric_feature].apply(lambda x: skew(x.dropna())).sort_values(ascending=False)\n",
    "skewness = pd.DataFrame({'skew': skewed_feature})\n",
    "skewness.head(10)"
   ]
  },
  {
   "cell_type": "code",
   "execution_count": 25,
   "id": "f39f3423",
   "metadata": {
    "execution": {
     "iopub.execute_input": "2021-11-28T11:51:14.596508Z",
     "iopub.status.busy": "2021-11-28T11:51:14.595837Z",
     "iopub.status.idle": "2021-11-28T11:51:14.626909Z",
     "shell.execute_reply": "2021-11-28T11:51:14.627445Z",
     "shell.execute_reply.started": "2021-11-28T11:19:18.372925Z"
    },
    "papermill": {
     "duration": 0.091093,
     "end_time": "2021-11-28T11:51:14.627630",
     "exception": false,
     "start_time": "2021-11-28T11:51:14.536537",
     "status": "completed"
    },
    "tags": []
   },
   "outputs": [
    {
     "name": "stdout",
     "output_type": "stream",
     "text": [
      "54 skewed numerical features for Box Cox transform\n"
     ]
    }
   ],
   "source": [
    "#Box Cox\n",
    "skewness = skewness[abs(skewness) > 0.5]\n",
    "print('{} skewed numerical features for Box Cox transform'.format(len(skewness)))\n",
    "\n",
    "from scipy.special import boxcox1p\n",
    "lam = 0.15\n",
    "for f in skewness.index:\n",
    "    df_all[f] = boxcox1p(df_all[f], lam)"
   ]
  },
  {
   "cell_type": "code",
   "execution_count": 26,
   "id": "3dbf2ce1",
   "metadata": {
    "execution": {
     "iopub.execute_input": "2021-11-28T11:51:14.739429Z",
     "iopub.status.busy": "2021-11-28T11:51:14.738671Z",
     "iopub.status.idle": "2021-11-28T11:51:14.768326Z",
     "shell.execute_reply": "2021-11-28T11:51:14.769307Z",
     "shell.execute_reply.started": "2021-11-28T11:19:18.411111Z"
    },
    "papermill": {
     "duration": 0.088462,
     "end_time": "2021-11-28T11:51:14.769611",
     "exception": false,
     "start_time": "2021-11-28T11:51:14.681149",
     "status": "completed"
    },
    "tags": []
   },
   "outputs": [
    {
     "name": "stdout",
     "output_type": "stream",
     "text": [
      "df_all size: (2917, 210)\n"
     ]
    }
   ],
   "source": [
    "#create dummy feature for categorical\n",
    "df_all = pd.get_dummies(df_all)\n",
    "print('df_all size: {}'.format(df_all.shape))"
   ]
  },
  {
   "cell_type": "code",
   "execution_count": 27,
   "id": "f84fb83c",
   "metadata": {
    "execution": {
     "iopub.execute_input": "2021-11-28T11:51:14.882964Z",
     "iopub.status.busy": "2021-11-28T11:51:14.881920Z",
     "iopub.status.idle": "2021-11-28T11:51:14.884793Z",
     "shell.execute_reply": "2021-11-28T11:51:14.884195Z",
     "shell.execute_reply.started": "2021-11-28T11:19:18.446845Z"
    },
    "papermill": {
     "duration": 0.060251,
     "end_time": "2021-11-28T11:51:14.884935",
     "exception": false,
     "start_time": "2021-11-28T11:51:14.824684",
     "status": "completed"
    },
    "tags": []
   },
   "outputs": [],
   "source": [
    "#partition the dataset into train and test \n",
    "X_train = df_all[:n_train]\n",
    "X_test = df_all[n_train:]"
   ]
  },
  {
   "cell_type": "code",
   "execution_count": 28,
   "id": "6574d0a9",
   "metadata": {
    "execution": {
     "iopub.execute_input": "2021-11-28T11:51:14.997949Z",
     "iopub.status.busy": "2021-11-28T11:51:14.997278Z",
     "iopub.status.idle": "2021-11-28T11:51:15.043247Z",
     "shell.execute_reply": "2021-11-28T11:51:15.042660Z",
     "shell.execute_reply.started": "2021-11-28T11:19:18.454842Z"
    },
    "papermill": {
     "duration": 0.105405,
     "end_time": "2021-11-28T11:51:15.043385",
     "exception": false,
     "start_time": "2021-11-28T11:51:14.937980",
     "status": "completed"
    },
    "tags": []
   },
   "outputs": [],
   "source": [
    "#cross validation\n",
    "from sklearn.model_selection import KFold, cross_val_score, train_test_split\n",
    "\n",
    "def rmse_cv(model):\n",
    "    rmse = np.sqrt(-cross_val_score(model, X_train.values, y_train, scoring=\"neg_mean_squared_error\", cv = 5))\n",
    "    return rmse"
   ]
  },
  {
   "cell_type": "markdown",
   "id": "933183a7",
   "metadata": {
    "papermill": {
     "duration": 0.052329,
     "end_time": "2021-11-28T11:51:15.149350",
     "exception": false,
     "start_time": "2021-11-28T11:51:15.097021",
     "status": "completed"
    },
    "tags": []
   },
   "source": [
    "# Modelling"
   ]
  },
  {
   "cell_type": "code",
   "execution_count": 29,
   "id": "5d330cc2",
   "metadata": {
    "execution": {
     "iopub.execute_input": "2021-11-28T11:51:15.256615Z",
     "iopub.status.busy": "2021-11-28T11:51:15.255950Z",
     "iopub.status.idle": "2021-11-28T11:51:15.436653Z",
     "shell.execute_reply": "2021-11-28T11:51:15.436041Z",
     "shell.execute_reply.started": "2021-11-28T11:19:18.523973Z"
    },
    "papermill": {
     "duration": 0.235454,
     "end_time": "2021-11-28T11:51:15.436802",
     "exception": false,
     "start_time": "2021-11-28T11:51:15.201348",
     "status": "completed"
    },
    "tags": []
   },
   "outputs": [],
   "source": [
    "from sklearn.linear_model import ElasticNet, Lasso\n",
    "from sklearn.ensemble import GradientBoostingRegressor\n",
    "from sklearn.kernel_ridge import KernelRidge\n",
    "from sklearn.ensemble import StackingRegressor\n",
    "from sklearn.metrics import mean_squared_error"
   ]
  },
  {
   "cell_type": "code",
   "execution_count": 30,
   "id": "0e512d46",
   "metadata": {
    "execution": {
     "iopub.execute_input": "2021-11-28T11:51:15.546470Z",
     "iopub.status.busy": "2021-11-28T11:51:15.545500Z",
     "iopub.status.idle": "2021-11-28T11:51:15.939052Z",
     "shell.execute_reply": "2021-11-28T11:51:15.939998Z",
     "shell.execute_reply.started": "2021-11-28T11:19:18.737556Z"
    },
    "papermill": {
     "duration": 0.451509,
     "end_time": "2021-11-28T11:51:15.940277",
     "exception": false,
     "start_time": "2021-11-28T11:51:15.488768",
     "status": "completed"
    },
    "tags": []
   },
   "outputs": [],
   "source": [
    "#LASSO Regression\n",
    "lasso = Lasso(alpha =0.0005, random_state=1)\n",
    "score_lasso = rmse_cv(lasso)"
   ]
  },
  {
   "cell_type": "code",
   "execution_count": 31,
   "id": "fce5970d",
   "metadata": {
    "execution": {
     "iopub.execute_input": "2021-11-28T11:51:16.109502Z",
     "iopub.status.busy": "2021-11-28T11:51:16.108654Z",
     "iopub.status.idle": "2021-11-28T11:51:16.500370Z",
     "shell.execute_reply": "2021-11-28T11:51:16.501295Z",
     "shell.execute_reply.started": "2021-11-28T11:19:19.179652Z"
    },
    "papermill": {
     "duration": 0.456451,
     "end_time": "2021-11-28T11:51:16.501630",
     "exception": false,
     "start_time": "2021-11-28T11:51:16.045179",
     "status": "completed"
    },
    "tags": []
   },
   "outputs": [],
   "source": [
    "#Elastic Net Regression\n",
    "ENet = ElasticNet(alpha=0.0005, l1_ratio=.9, random_state=3)\n",
    "score_ENet = rmse_cv(ENet)"
   ]
  },
  {
   "cell_type": "code",
   "execution_count": 32,
   "id": "07abc5a8",
   "metadata": {
    "execution": {
     "iopub.execute_input": "2021-11-28T11:51:16.666666Z",
     "iopub.status.busy": "2021-11-28T11:51:16.666004Z",
     "iopub.status.idle": "2021-11-28T11:51:17.085646Z",
     "shell.execute_reply": "2021-11-28T11:51:17.086527Z",
     "shell.execute_reply.started": "2021-11-28T11:19:19.627291Z"
    },
    "papermill": {
     "duration": 0.486001,
     "end_time": "2021-11-28T11:51:17.086830",
     "exception": false,
     "start_time": "2021-11-28T11:51:16.600829",
     "status": "completed"
    },
    "tags": []
   },
   "outputs": [],
   "source": [
    "#Kernel Ridge Regression\n",
    "KRR = KernelRidge(alpha=0.6, kernel='polynomial', degree=2, coef0=2.5)\n",
    "score_KRR = rmse_cv(KRR)\n"
   ]
  },
  {
   "cell_type": "code",
   "execution_count": 33,
   "id": "8397a638",
   "metadata": {
    "execution": {
     "iopub.execute_input": "2021-11-28T11:51:17.252950Z",
     "iopub.status.busy": "2021-11-28T11:51:17.251939Z",
     "iopub.status.idle": "2021-11-28T11:52:06.907780Z",
     "shell.execute_reply": "2021-11-28T11:52:06.906856Z",
     "shell.execute_reply.started": "2021-11-28T11:19:20.215405Z"
    },
    "papermill": {
     "duration": 49.721736,
     "end_time": "2021-11-28T11:52:06.908017",
     "exception": false,
     "start_time": "2021-11-28T11:51:17.186281",
     "status": "completed"
    },
    "tags": []
   },
   "outputs": [],
   "source": [
    "#Gradient Boosting Regression\n",
    "GBoost = GradientBoostingRegressor(n_estimators=3000, learning_rate=0.05,\n",
    "                                   max_depth=4, max_features='sqrt',\n",
    "                                   min_samples_leaf=15, min_samples_split=10, \n",
    "                                   loss='huber', random_state =5)\n",
    "score_GBoost = rmse_cv(GBoost)\n"
   ]
  },
  {
   "cell_type": "code",
   "execution_count": 34,
   "id": "695f7083",
   "metadata": {
    "execution": {
     "iopub.execute_input": "2021-11-28T11:52:07.037104Z",
     "iopub.status.busy": "2021-11-28T11:52:07.036080Z",
     "iopub.status.idle": "2021-11-28T11:52:07.038985Z",
     "shell.execute_reply": "2021-11-28T11:52:07.038303Z",
     "shell.execute_reply.started": "2021-11-28T11:20:09.593214Z"
    },
    "papermill": {
     "duration": 0.061263,
     "end_time": "2021-11-28T11:52:07.039125",
     "exception": false,
     "start_time": "2021-11-28T11:52:06.977862",
     "status": "completed"
    },
    "tags": []
   },
   "outputs": [],
   "source": [
    "#XGBoost\n",
    "#import xgboost as xgb\n",
    "#model_xgb = xgb.XGBRegressor(colsample_bytree=0.4603, gamma=0.0468, \n",
    "#                             learning_rate=0.05, max_depth=3, \n",
    "#                             min_child_weight=1.7817, n_estimators=2200,\n",
    "#                             reg_alpha=0.4640, reg_lambda=0.8571,\n",
    "#                             subsample=0.5213, silent=1,\n",
    "#                             random_state =7, nthread = -1)\n",
    "#score_xgb = rmse_cv(model_xgb)\n"
   ]
  },
  {
   "cell_type": "code",
   "execution_count": 35,
   "id": "5d36f835",
   "metadata": {
    "execution": {
     "iopub.execute_input": "2021-11-28T11:52:07.166244Z",
     "iopub.status.busy": "2021-11-28T11:52:07.164303Z",
     "iopub.status.idle": "2021-11-28T11:52:07.168330Z",
     "shell.execute_reply": "2021-11-28T11:52:07.168981Z",
     "shell.execute_reply.started": "2021-11-28T11:20:09.59887Z"
    },
    "papermill": {
     "duration": 0.071545,
     "end_time": "2021-11-28T11:52:07.169164",
     "exception": false,
     "start_time": "2021-11-28T11:52:07.097619",
     "status": "completed"
    },
    "tags": []
   },
   "outputs": [],
   "source": [
    "#LightGBM\n",
    "#import lightgbm as lgb\n",
    "#model_lgb = lgb.LGBMRegressor(objective='regression',num_leaves=5,\n",
    "#                              learning_rate=0.05, n_estimators=720,\n",
    "#                              max_bin = 55, bagging_fraction = 0.8,\n",
    "#                             bagging_freq = 5, feature_fraction = 0.2319,\n",
    "#                              feature_fraction_seed=9, bagging_seed=9,\n",
    "#                              min_data_in_leaf =6, min_sum_hessian_in_leaf = 11)\n",
    "#score_lgb = rmse_cv(model_lgb)\n"
   ]
  },
  {
   "cell_type": "code",
   "execution_count": 36,
   "id": "587a0cf9",
   "metadata": {
    "execution": {
     "iopub.execute_input": "2021-11-28T11:52:07.284618Z",
     "iopub.status.busy": "2021-11-28T11:52:07.283908Z",
     "iopub.status.idle": "2021-11-28T11:52:07.299880Z",
     "shell.execute_reply": "2021-11-28T11:52:07.300552Z",
     "shell.execute_reply.started": "2021-11-28T11:20:09.613735Z"
    },
    "papermill": {
     "duration": 0.073412,
     "end_time": "2021-11-28T11:52:07.300741",
     "exception": false,
     "start_time": "2021-11-28T11:52:07.227329",
     "status": "completed"
    },
    "tags": []
   },
   "outputs": [
    {
     "data": {
      "text/html": [
       "<div>\n",
       "<style scoped>\n",
       "    .dataframe tbody tr th:only-of-type {\n",
       "        vertical-align: middle;\n",
       "    }\n",
       "\n",
       "    .dataframe tbody tr th {\n",
       "        vertical-align: top;\n",
       "    }\n",
       "\n",
       "    .dataframe thead th {\n",
       "        text-align: right;\n",
       "    }\n",
       "</style>\n",
       "<table border=\"1\" class=\"dataframe\">\n",
       "  <thead>\n",
       "    <tr style=\"text-align: right;\">\n",
       "      <th></th>\n",
       "      <th>Model</th>\n",
       "      <th>Score</th>\n",
       "    </tr>\n",
       "  </thead>\n",
       "  <tbody>\n",
       "    <tr>\n",
       "      <th>1</th>\n",
       "      <td>Elastic Net Regression</td>\n",
       "      <td>0.114265</td>\n",
       "    </tr>\n",
       "    <tr>\n",
       "      <th>0</th>\n",
       "      <td>LASSO Regression</td>\n",
       "      <td>0.114379</td>\n",
       "    </tr>\n",
       "    <tr>\n",
       "      <th>2</th>\n",
       "      <td>Kernel Ridge Regression</td>\n",
       "      <td>0.114779</td>\n",
       "    </tr>\n",
       "    <tr>\n",
       "      <th>3</th>\n",
       "      <td>Gradient Boosting Regression</td>\n",
       "      <td>0.116102</td>\n",
       "    </tr>\n",
       "  </tbody>\n",
       "</table>\n",
       "</div>"
      ],
      "text/plain": [
       "                          Model     Score\n",
       "1        Elastic Net Regression  0.114265\n",
       "0              LASSO Regression  0.114379\n",
       "2       Kernel Ridge Regression  0.114779\n",
       "3  Gradient Boosting Regression  0.116102"
      ]
     },
     "execution_count": 36,
     "metadata": {},
     "output_type": "execute_result"
    }
   ],
   "source": [
    "models = pd.DataFrame({\n",
    "    'Model': ['LASSO Regression', 'Elastic Net Regression', 'Kernel Ridge Regression', \n",
    "              'Gradient Boosting Regression'],\n",
    "    'Score': [score_lasso.mean(), score_ENet.mean(), score_KRR.mean(), score_GBoost.mean()]})\n",
    "models.sort_values(by = 'Score', ascending=True)"
   ]
  },
  {
   "cell_type": "code",
   "execution_count": 37,
   "id": "c0b5ccb7",
   "metadata": {
    "execution": {
     "iopub.execute_input": "2021-11-28T11:52:07.411614Z",
     "iopub.status.busy": "2021-11-28T11:52:07.410913Z",
     "iopub.status.idle": "2021-11-28T11:52:07.417500Z",
     "shell.execute_reply": "2021-11-28T11:52:07.418158Z",
     "shell.execute_reply.started": "2021-11-28T11:20:09.637307Z"
    },
    "papermill": {
     "duration": 0.064025,
     "end_time": "2021-11-28T11:52:07.418335",
     "exception": false,
     "start_time": "2021-11-28T11:52:07.354310",
     "status": "completed"
    },
    "tags": []
   },
   "outputs": [],
   "source": [
    "def get_stacking():\n",
    "    #define the base models\n",
    "    level0 = list()\n",
    "    level0.append(('ENet', ENet))\n",
    "    level0.append(('GBoost', GBoost))\n",
    "    level0.append(('KRR', KRR))\n",
    "    level1 = lasso\n",
    "    \n",
    "    model = StackingRegressor(estimators=level0, final_estimator=level1, cv=5)\n",
    "    return model"
   ]
  },
  {
   "cell_type": "code",
   "execution_count": 38,
   "id": "b1f75613",
   "metadata": {
    "execution": {
     "iopub.execute_input": "2021-11-28T11:52:07.533129Z",
     "iopub.status.busy": "2021-11-28T11:52:07.532125Z",
     "iopub.status.idle": "2021-11-28T11:56:44.430143Z",
     "shell.execute_reply": "2021-11-28T11:56:44.431061Z",
     "shell.execute_reply.started": "2021-11-28T11:20:09.645965Z"
    },
    "papermill": {
     "duration": 276.959161,
     "end_time": "2021-11-28T11:56:44.431357",
     "exception": false,
     "start_time": "2021-11-28T11:52:07.472196",
     "status": "completed"
    },
    "tags": []
   },
   "outputs": [
    {
     "name": "stdout",
     "output_type": "stream",
     "text": [
      "Staching Model score: 0.10846898052450515\n"
     ]
    }
   ],
   "source": [
    "stacking_model = get_stacking()\n",
    "score_stack = rmse_cv(stacking_model)\n",
    "print('Staching Model score: {}'.format(score_stack.mean()))"
   ]
  },
  {
   "cell_type": "code",
   "execution_count": 39,
   "id": "2fbbc104",
   "metadata": {
    "execution": {
     "iopub.execute_input": "2021-11-28T11:56:44.551579Z",
     "iopub.status.busy": "2021-11-28T11:56:44.550858Z",
     "iopub.status.idle": "2021-11-28T11:57:46.512913Z",
     "shell.execute_reply": "2021-11-28T11:57:46.514607Z",
     "shell.execute_reply.started": "2021-11-28T11:24:45.81947Z"
    },
    "papermill": {
     "duration": 62.023848,
     "end_time": "2021-11-28T11:57:46.515081",
     "exception": false,
     "start_time": "2021-11-28T11:56:44.491233",
     "status": "completed"
    },
    "tags": []
   },
   "outputs": [
    {
     "name": "stdout",
     "output_type": "stream",
     "text": [
      "0.07094373567443699\n"
     ]
    }
   ],
   "source": [
    "stacking_model.fit(X_train.values, y_train)\n",
    "stacking_y_pred = stacking_model.predict(X_train.values)\n",
    "stacking_pred = np.expm1(stacking_model.predict(X_test.values))\n",
    "print(np.sqrt(mean_squared_error(y_train, stacking_y_pred)))"
   ]
  },
  {
   "cell_type": "code",
   "execution_count": 40,
   "id": "b717316f",
   "metadata": {
    "execution": {
     "iopub.execute_input": "2021-11-28T11:57:46.636897Z",
     "iopub.status.busy": "2021-11-28T11:57:46.636150Z",
     "iopub.status.idle": "2021-11-28T11:57:46.648867Z",
     "shell.execute_reply": "2021-11-28T11:57:46.648164Z",
     "shell.execute_reply.started": "2021-11-28T11:25:49.109813Z"
    },
    "papermill": {
     "duration": 0.072575,
     "end_time": "2021-11-28T11:57:46.649010",
     "exception": false,
     "start_time": "2021-11-28T11:57:46.576435",
     "status": "completed"
    },
    "tags": []
   },
   "outputs": [],
   "source": [
    "#set the output as a dataframe and convert to csv file named submission.csv\n",
    "output = pd.DataFrame({'Id': df_test_Id, 'SalePrice': stacking_pred})\n",
    "output.to_csv('submission.csv', index = False)"
   ]
  },
  {
   "cell_type": "markdown",
   "id": "76558787",
   "metadata": {
    "papermill": {
     "duration": 0.053714,
     "end_time": "2021-11-28T11:57:46.758175",
     "exception": false,
     "start_time": "2021-11-28T11:57:46.704461",
     "status": "completed"
    },
    "tags": []
   },
   "source": [
    "Some of the notebooks I read:\n",
    "* [Comprehensive Data Exploration with Python](https://www.kaggle.com/pmarcelino/comprehensive-data-exploration-with-python/notebook)\n",
    "* [A Study on Regression Applied to the Ames Dataset](https://www.kaggle.com/juliencs/a-study-on-regression-applied-to-the-ames-dataset)\n",
    "* [Stacked Regressions](https://www.kaggle.com/serigne/stacked-regressions-top-4-on-leaderboard/notebook)\n",
    "* [Regularized Linear Models](https://www.kaggle.com/apapiu/regularized-linear-models)"
   ]
  }
 ],
 "metadata": {
  "kernelspec": {
   "display_name": "Python 3",
   "language": "python",
   "name": "python3"
  },
  "language_info": {
   "codemirror_mode": {
    "name": "ipython",
    "version": 3
   },
   "file_extension": ".py",
   "mimetype": "text/x-python",
   "name": "python",
   "nbconvert_exporter": "python",
   "pygments_lexer": "ipython3",
   "version": "3.7.10"
  },
  "papermill": {
   "default_parameters": {},
   "duration": 410.043518,
   "end_time": "2021-11-28T11:57:47.524056",
   "environment_variables": {},
   "exception": null,
   "input_path": "__notebook__.ipynb",
   "output_path": "__notebook__.ipynb",
   "parameters": {},
   "start_time": "2021-11-28T11:50:57.480538",
   "version": "2.3.3"
  }
 },
 "nbformat": 4,
 "nbformat_minor": 5
}
